{
 "cells": [
  {
   "cell_type": "code",
   "execution_count": 84,
   "id": "469d729d",
   "metadata": {},
   "outputs": [],
   "source": [
    "import pandas as pd\n",
    "import numpy as np"
   ]
  },
  {
   "cell_type": "code",
   "execution_count": 85,
   "id": "25a069c3",
   "metadata": {},
   "outputs": [],
   "source": [
    "df = pd.read_excel(r'Online Retail.xlsx', sheet_name='Online Retail')"
   ]
  },
  {
   "cell_type": "code",
   "execution_count": 86,
   "id": "c09ed521",
   "metadata": {},
   "outputs": [
    {
     "data": {
      "text/html": [
       "<div>\n",
       "<style scoped>\n",
       "    .dataframe tbody tr th:only-of-type {\n",
       "        vertical-align: middle;\n",
       "    }\n",
       "\n",
       "    .dataframe tbody tr th {\n",
       "        vertical-align: top;\n",
       "    }\n",
       "\n",
       "    .dataframe thead th {\n",
       "        text-align: right;\n",
       "    }\n",
       "</style>\n",
       "<table border=\"1\" class=\"dataframe\">\n",
       "  <thead>\n",
       "    <tr style=\"text-align: right;\">\n",
       "      <th></th>\n",
       "      <th>InvoiceNo</th>\n",
       "      <th>StockCode</th>\n",
       "      <th>Description</th>\n",
       "      <th>Quantity</th>\n",
       "      <th>InvoiceDate</th>\n",
       "      <th>UnitPrice</th>\n",
       "      <th>CustomerID</th>\n",
       "      <th>Country</th>\n",
       "    </tr>\n",
       "  </thead>\n",
       "  <tbody>\n",
       "    <tr>\n",
       "      <th>0</th>\n",
       "      <td>536365</td>\n",
       "      <td>85123A</td>\n",
       "      <td>WHITE HANGING HEART T-LIGHT HOLDER</td>\n",
       "      <td>6</td>\n",
       "      <td>2010-12-01 08:26:00</td>\n",
       "      <td>2.55</td>\n",
       "      <td>17850.0</td>\n",
       "      <td>United Kingdom</td>\n",
       "    </tr>\n",
       "    <tr>\n",
       "      <th>1</th>\n",
       "      <td>536365</td>\n",
       "      <td>71053</td>\n",
       "      <td>WHITE METAL LANTERN</td>\n",
       "      <td>6</td>\n",
       "      <td>2010-12-01 08:26:00</td>\n",
       "      <td>3.39</td>\n",
       "      <td>17850.0</td>\n",
       "      <td>United Kingdom</td>\n",
       "    </tr>\n",
       "    <tr>\n",
       "      <th>2</th>\n",
       "      <td>536365</td>\n",
       "      <td>84406B</td>\n",
       "      <td>CREAM CUPID HEARTS COAT HANGER</td>\n",
       "      <td>8</td>\n",
       "      <td>2010-12-01 08:26:00</td>\n",
       "      <td>2.75</td>\n",
       "      <td>17850.0</td>\n",
       "      <td>United Kingdom</td>\n",
       "    </tr>\n",
       "    <tr>\n",
       "      <th>3</th>\n",
       "      <td>536365</td>\n",
       "      <td>84029G</td>\n",
       "      <td>KNITTED UNION FLAG HOT WATER BOTTLE</td>\n",
       "      <td>6</td>\n",
       "      <td>2010-12-01 08:26:00</td>\n",
       "      <td>3.39</td>\n",
       "      <td>17850.0</td>\n",
       "      <td>United Kingdom</td>\n",
       "    </tr>\n",
       "    <tr>\n",
       "      <th>4</th>\n",
       "      <td>536365</td>\n",
       "      <td>84029E</td>\n",
       "      <td>RED WOOLLY HOTTIE WHITE HEART.</td>\n",
       "      <td>6</td>\n",
       "      <td>2010-12-01 08:26:00</td>\n",
       "      <td>3.39</td>\n",
       "      <td>17850.0</td>\n",
       "      <td>United Kingdom</td>\n",
       "    </tr>\n",
       "  </tbody>\n",
       "</table>\n",
       "</div>"
      ],
      "text/plain": [
       "  InvoiceNo StockCode                          Description  Quantity  \\\n",
       "0    536365    85123A   WHITE HANGING HEART T-LIGHT HOLDER         6   \n",
       "1    536365     71053                  WHITE METAL LANTERN         6   \n",
       "2    536365    84406B       CREAM CUPID HEARTS COAT HANGER         8   \n",
       "3    536365    84029G  KNITTED UNION FLAG HOT WATER BOTTLE         6   \n",
       "4    536365    84029E       RED WOOLLY HOTTIE WHITE HEART.         6   \n",
       "\n",
       "          InvoiceDate  UnitPrice  CustomerID         Country  \n",
       "0 2010-12-01 08:26:00       2.55     17850.0  United Kingdom  \n",
       "1 2010-12-01 08:26:00       3.39     17850.0  United Kingdom  \n",
       "2 2010-12-01 08:26:00       2.75     17850.0  United Kingdom  \n",
       "3 2010-12-01 08:26:00       3.39     17850.0  United Kingdom  \n",
       "4 2010-12-01 08:26:00       3.39     17850.0  United Kingdom  "
      ]
     },
     "execution_count": 86,
     "metadata": {},
     "output_type": "execute_result"
    }
   ],
   "source": [
    "df.head() # Check for NaN values in 'UnitPrice'"
   ]
  },
  {
   "cell_type": "code",
   "execution_count": 87,
   "id": "e3393334",
   "metadata": {},
   "outputs": [
    {
     "data": {
      "text/html": [
       "<div>\n",
       "<style scoped>\n",
       "    .dataframe tbody tr th:only-of-type {\n",
       "        vertical-align: middle;\n",
       "    }\n",
       "\n",
       "    .dataframe tbody tr th {\n",
       "        vertical-align: top;\n",
       "    }\n",
       "\n",
       "    .dataframe thead th {\n",
       "        text-align: right;\n",
       "    }\n",
       "</style>\n",
       "<table border=\"1\" class=\"dataframe\">\n",
       "  <thead>\n",
       "    <tr style=\"text-align: right;\">\n",
       "      <th></th>\n",
       "      <th>InvoiceNo</th>\n",
       "      <th>StockCode</th>\n",
       "      <th>Description</th>\n",
       "      <th>Quantity</th>\n",
       "      <th>InvoiceDate</th>\n",
       "      <th>UnitPrice</th>\n",
       "      <th>CustomerID</th>\n",
       "      <th>Country</th>\n",
       "    </tr>\n",
       "  </thead>\n",
       "  <tbody>\n",
       "  </tbody>\n",
       "</table>\n",
       "</div>"
      ],
      "text/plain": [
       "Empty DataFrame\n",
       "Columns: [InvoiceNo, StockCode, Description, Quantity, InvoiceDate, UnitPrice, CustomerID, Country]\n",
       "Index: []"
      ]
     },
     "execution_count": 87,
     "metadata": {},
     "output_type": "execute_result"
    }
   ],
   "source": [
    "df[(df['Quantity'] < 0) & (df['InvoiceNo'].isna() )]"
   ]
  },
  {
   "cell_type": "markdown",
   "id": "687da3fd",
   "metadata": {},
   "source": [
    "# Chuẩn bị dữ liệu"
   ]
  },
  {
   "cell_type": "markdown",
   "id": "873cd7e6",
   "metadata": {},
   "source": [
    "## Country Table"
   ]
  },
  {
   "cell_type": "code",
   "execution_count": 88,
   "id": "0a2516e2",
   "metadata": {},
   "outputs": [],
   "source": [
    "dim_country = df['Country'].drop_duplicates().reset_index(drop=True)\n",
    "dim_country = dim_country.dropna()"
   ]
  },
  {
   "cell_type": "code",
   "execution_count": 89,
   "id": "b04d313a",
   "metadata": {},
   "outputs": [
    {
     "data": {
      "text/plain": [
       "0"
      ]
     },
     "execution_count": 89,
     "metadata": {},
     "output_type": "execute_result"
    }
   ],
   "source": [
    "dim_country.duplicated().sum()\n",
    "dim_country.isnull().sum()"
   ]
  },
  {
   "cell_type": "code",
   "execution_count": 90,
   "id": "00fb4a29",
   "metadata": {},
   "outputs": [],
   "source": [
    "dim_country = dim_country.to_csv('dim_country.csv', index=False)"
   ]
  },
  {
   "cell_type": "markdown",
   "id": "58240230",
   "metadata": {},
   "source": [
    "## Product Table"
   ]
  },
  {
   "cell_type": "code",
   "execution_count": 91,
   "id": "0f535460",
   "metadata": {},
   "outputs": [
    {
     "data": {
      "text/html": [
       "<div>\n",
       "<style scoped>\n",
       "    .dataframe tbody tr th:only-of-type {\n",
       "        vertical-align: middle;\n",
       "    }\n",
       "\n",
       "    .dataframe tbody tr th {\n",
       "        vertical-align: top;\n",
       "    }\n",
       "\n",
       "    .dataframe thead th {\n",
       "        text-align: right;\n",
       "    }\n",
       "</style>\n",
       "<table border=\"1\" class=\"dataframe\">\n",
       "  <thead>\n",
       "    <tr style=\"text-align: right;\">\n",
       "      <th></th>\n",
       "      <th>Description</th>\n",
       "      <th>StockCode</th>\n",
       "    </tr>\n",
       "  </thead>\n",
       "  <tbody>\n",
       "    <tr>\n",
       "      <th>0</th>\n",
       "      <td>WHITE HANGING HEART T-LIGHT HOLDER</td>\n",
       "      <td>85123A</td>\n",
       "    </tr>\n",
       "    <tr>\n",
       "      <th>1</th>\n",
       "      <td>WHITE METAL LANTERN</td>\n",
       "      <td>71053</td>\n",
       "    </tr>\n",
       "    <tr>\n",
       "      <th>2</th>\n",
       "      <td>CREAM CUPID HEARTS COAT HANGER</td>\n",
       "      <td>84406B</td>\n",
       "    </tr>\n",
       "    <tr>\n",
       "      <th>3</th>\n",
       "      <td>KNITTED UNION FLAG HOT WATER BOTTLE</td>\n",
       "      <td>84029G</td>\n",
       "    </tr>\n",
       "    <tr>\n",
       "      <th>4</th>\n",
       "      <td>RED WOOLLY HOTTIE WHITE HEART.</td>\n",
       "      <td>84029E</td>\n",
       "    </tr>\n",
       "  </tbody>\n",
       "</table>\n",
       "</div>"
      ],
      "text/plain": [
       "                           Description StockCode\n",
       "0   WHITE HANGING HEART T-LIGHT HOLDER    85123A\n",
       "1                  WHITE METAL LANTERN     71053\n",
       "2       CREAM CUPID HEARTS COAT HANGER    84406B\n",
       "3  KNITTED UNION FLAG HOT WATER BOTTLE    84029G\n",
       "4       RED WOOLLY HOTTIE WHITE HEART.    84029E"
      ]
     },
     "execution_count": 91,
     "metadata": {},
     "output_type": "execute_result"
    }
   ],
   "source": [
    "dim_product = df[['Description', 'StockCode']]\n",
    "dim_product.head()"
   ]
  },
  {
   "cell_type": "code",
   "execution_count": 92,
   "id": "a09f6170",
   "metadata": {},
   "outputs": [
    {
     "name": "stderr",
     "output_type": "stream",
     "text": [
      "C:\\Users\\ADMIN\\AppData\\Local\\Temp\\ipykernel_20192\\87890445.py:1: SettingWithCopyWarning: \n",
      "A value is trying to be set on a copy of a slice from a DataFrame.\n",
      "Try using .loc[row_indexer,col_indexer] = value instead\n",
      "\n",
      "See the caveats in the documentation: https://pandas.pydata.org/pandas-docs/stable/user_guide/indexing.html#returning-a-view-versus-a-copy\n",
      "  dim_product['StockCode'] = dim_product['StockCode'].astype(str).str.strip().str.upper()\n",
      "C:\\Users\\ADMIN\\AppData\\Local\\Temp\\ipykernel_20192\\87890445.py:2: SettingWithCopyWarning: \n",
      "A value is trying to be set on a copy of a slice from a DataFrame.\n",
      "Try using .loc[row_indexer,col_indexer] = value instead\n",
      "\n",
      "See the caveats in the documentation: https://pandas.pydata.org/pandas-docs/stable/user_guide/indexing.html#returning-a-view-versus-a-copy\n",
      "  dim_product['Description'] = dim_product['Description'].astype(str).str.strip().str.upper()\n"
     ]
    }
   ],
   "source": [
    "dim_product['StockCode'] = dim_product['StockCode'].astype(str).str.strip().str.upper()\n",
    "dim_product['Description'] = dim_product['Description'].astype(str).str.strip().str.upper()\n"
   ]
  },
  {
   "cell_type": "code",
   "execution_count": 93,
   "id": "8a843748",
   "metadata": {},
   "outputs": [],
   "source": [
    "dim_product = dim_product.drop_duplicates('StockCode')"
   ]
  },
  {
   "cell_type": "code",
   "execution_count": 94,
   "id": "1aa62b27",
   "metadata": {},
   "outputs": [
    {
     "name": "stdout",
     "output_type": "stream",
     "text": [
      "<class 'pandas.core.frame.DataFrame'>\n",
      "Index: 3958 entries, 0 to 540421\n",
      "Data columns (total 2 columns):\n",
      " #   Column       Non-Null Count  Dtype \n",
      "---  ------       --------------  ----- \n",
      " 0   Description  3958 non-null   object\n",
      " 1   StockCode    3958 non-null   object\n",
      "dtypes: object(2)\n",
      "memory usage: 92.8+ KB\n"
     ]
    }
   ],
   "source": [
    "dim_product.info()"
   ]
  },
  {
   "cell_type": "code",
   "execution_count": 95,
   "id": "3f8eb452",
   "metadata": {},
   "outputs": [],
   "source": [
    "dim_product['Description'] = dim_product['Description'].astype(str).str.strip().str.upper()"
   ]
  },
  {
   "cell_type": "code",
   "execution_count": 96,
   "id": "a4b08f8b",
   "metadata": {},
   "outputs": [],
   "source": [
    "def categorize_product(desc):\n",
    "    if pd.isnull(desc):\n",
    "        return \"Unknown\"\n",
    "    desc = desc.lower()  # chuyển chữ thường để dễ dò từ khóa\n",
    "\n",
    "    if any(keyword in desc for keyword in [\"lantern\", \"light\", \"lamp\", \"frame\", \"candle\", \"mirror\", \"hanger\"]):\n",
    "        return \"Trang trí & nội thất\"\n",
    "    elif any(keyword in desc for keyword in [\"mug\", \"cup\", \"bowl\", \"plate\", \"coaster\", \"tray\", \"teapot\"]):\n",
    "        return \"Nhà bếp & dụng cụ ăn uống\"\n",
    "    elif any(keyword in desc for keyword in [\"heart\", \"box\", \"bag\", \"ribbon\", \"star\", \"bell\", \"flower\"]):\n",
    "        return \"Đồ thủ công & trang trí\"\n",
    "    elif any(keyword in desc for keyword in [\"christmas\", \"xmas\", \"tree\", \"snow\", \"bauble\", \"stocking\"]):\n",
    "        return \"Giáng sinh / Lễ hội\"\n",
    "    elif any(keyword in desc for keyword in [\"gift\", \"set\", \"keyring\", \"bookmark\", \"tin\", \"calendar\"]):\n",
    "        return \"Quà tặng & đồ lưu niệm\"\n",
    "    elif any(keyword in desc for keyword in [\"toy\", \"child\", \"pencil\", \"ball\", \"jigsaw\", \"animal\"]):\n",
    "        return \"Trẻ em / Đồ chơi\"\n",
    "    elif any(keyword in desc for keyword in [\"pen\", \"notebook\", \"eraser\", \"sharpener\", \"clip\"]):\n",
    "        return \"Văn phòng phẩm\"\n",
    "    elif any(keyword in desc for keyword in [\"scarf\", \"purse\", \"bracelet\", \"ring\"]):\n",
    "        return \"Phụ kiện thời trang\"\n",
    "    else:\n",
    "        return \"Khác\"\n"
   ]
  },
  {
   "cell_type": "code",
   "execution_count": 97,
   "id": "0e401775",
   "metadata": {},
   "outputs": [],
   "source": [
    "dim_product[\"Category\"] = dim_product['Description'].apply(categorize_product)\n"
   ]
  },
  {
   "cell_type": "code",
   "execution_count": 98,
   "id": "840b6bf1",
   "metadata": {},
   "outputs": [],
   "source": [
    "dim_product.to_csv('dim_product.csv', index=False)"
   ]
  },
  {
   "cell_type": "code",
   "execution_count": 99,
   "id": "1d94062b",
   "metadata": {},
   "outputs": [
    {
     "data": {
      "text/plain": [
       "0"
      ]
     },
     "execution_count": 99,
     "metadata": {},
     "output_type": "execute_result"
    }
   ],
   "source": [
    "dim_product['StockCode'].duplicated().sum()"
   ]
  },
  {
   "cell_type": "markdown",
   "id": "268e7a34",
   "metadata": {},
   "source": [
    "## Customer Table"
   ]
  },
  {
   "cell_type": "code",
   "execution_count": 219,
   "id": "a859b24f",
   "metadata": {},
   "outputs": [],
   "source": [
    "from faker import Faker"
   ]
  },
  {
   "cell_type": "code",
   "execution_count": 299,
   "id": "50ac3387",
   "metadata": {},
   "outputs": [],
   "source": [
    "dim_customer = df['CustomerID'].drop_duplicates().dropna().to_frame(name='CustomerID').reset_index(drop=True)"
   ]
  },
  {
   "cell_type": "code",
   "execution_count": 300,
   "id": "3ee729df",
   "metadata": {},
   "outputs": [
    {
     "data": {
      "text/html": [
       "<div>\n",
       "<style scoped>\n",
       "    .dataframe tbody tr th:only-of-type {\n",
       "        vertical-align: middle;\n",
       "    }\n",
       "\n",
       "    .dataframe tbody tr th {\n",
       "        vertical-align: top;\n",
       "    }\n",
       "\n",
       "    .dataframe thead th {\n",
       "        text-align: right;\n",
       "    }\n",
       "</style>\n",
       "<table border=\"1\" class=\"dataframe\">\n",
       "  <thead>\n",
       "    <tr style=\"text-align: right;\">\n",
       "      <th></th>\n",
       "      <th>CustomerID</th>\n",
       "    </tr>\n",
       "  </thead>\n",
       "  <tbody>\n",
       "    <tr>\n",
       "      <th>0</th>\n",
       "      <td>17850.0</td>\n",
       "    </tr>\n",
       "    <tr>\n",
       "      <th>1</th>\n",
       "      <td>13047.0</td>\n",
       "    </tr>\n",
       "    <tr>\n",
       "      <th>2</th>\n",
       "      <td>12583.0</td>\n",
       "    </tr>\n",
       "    <tr>\n",
       "      <th>3</th>\n",
       "      <td>13748.0</td>\n",
       "    </tr>\n",
       "    <tr>\n",
       "      <th>4</th>\n",
       "      <td>15100.0</td>\n",
       "    </tr>\n",
       "  </tbody>\n",
       "</table>\n",
       "</div>"
      ],
      "text/plain": [
       "   CustomerID\n",
       "0     17850.0\n",
       "1     13047.0\n",
       "2     12583.0\n",
       "3     13748.0\n",
       "4     15100.0"
      ]
     },
     "execution_count": 300,
     "metadata": {},
     "output_type": "execute_result"
    }
   ],
   "source": [
    "dim_customer.head()"
   ]
  },
  {
   "cell_type": "code",
   "execution_count": 301,
   "id": "221698c4",
   "metadata": {},
   "outputs": [],
   "source": [
    "fake = Faker()\n",
    "Faker.seed(42)"
   ]
  },
  {
   "cell_type": "code",
   "execution_count": 302,
   "id": "6004ea4a",
   "metadata": {},
   "outputs": [],
   "source": [
    "dim_customer['Customer_Name'] = [fake.name() for _ in dim_customer.index]"
   ]
  },
  {
   "cell_type": "code",
   "execution_count": 303,
   "id": "ab07fb85",
   "metadata": {},
   "outputs": [
    {
     "data": {
      "text/html": [
       "<div>\n",
       "<style scoped>\n",
       "    .dataframe tbody tr th:only-of-type {\n",
       "        vertical-align: middle;\n",
       "    }\n",
       "\n",
       "    .dataframe tbody tr th {\n",
       "        vertical-align: top;\n",
       "    }\n",
       "\n",
       "    .dataframe thead th {\n",
       "        text-align: right;\n",
       "    }\n",
       "</style>\n",
       "<table border=\"1\" class=\"dataframe\">\n",
       "  <thead>\n",
       "    <tr style=\"text-align: right;\">\n",
       "      <th></th>\n",
       "      <th>CustomerID</th>\n",
       "      <th>Customer_Name</th>\n",
       "    </tr>\n",
       "  </thead>\n",
       "  <tbody>\n",
       "    <tr>\n",
       "      <th>0</th>\n",
       "      <td>17850.0</td>\n",
       "      <td>Allison Hill</td>\n",
       "    </tr>\n",
       "    <tr>\n",
       "      <th>1</th>\n",
       "      <td>13047.0</td>\n",
       "      <td>Noah Rhodes</td>\n",
       "    </tr>\n",
       "    <tr>\n",
       "      <th>2</th>\n",
       "      <td>12583.0</td>\n",
       "      <td>Angie Henderson</td>\n",
       "    </tr>\n",
       "    <tr>\n",
       "      <th>3</th>\n",
       "      <td>13748.0</td>\n",
       "      <td>Daniel Wagner</td>\n",
       "    </tr>\n",
       "    <tr>\n",
       "      <th>4</th>\n",
       "      <td>15100.0</td>\n",
       "      <td>Cristian Santos</td>\n",
       "    </tr>\n",
       "  </tbody>\n",
       "</table>\n",
       "</div>"
      ],
      "text/plain": [
       "   CustomerID    Customer_Name\n",
       "0     17850.0     Allison Hill\n",
       "1     13047.0      Noah Rhodes\n",
       "2     12583.0  Angie Henderson\n",
       "3     13748.0    Daniel Wagner\n",
       "4     15100.0  Cristian Santos"
      ]
     },
     "execution_count": 303,
     "metadata": {},
     "output_type": "execute_result"
    }
   ],
   "source": [
    "dim_customer.head()"
   ]
  },
  {
   "cell_type": "code",
   "execution_count": 254,
   "id": "4678a718",
   "metadata": {},
   "outputs": [],
   "source": [
    "dim_customer.to_csv('dim_customer.csv', index=False)"
   ]
  },
  {
   "cell_type": "markdown",
   "id": "d16daa75",
   "metadata": {},
   "source": [
    "## Fact table - Orders.Header"
   ]
  },
  {
   "cell_type": "code",
   "execution_count": 226,
   "id": "23c0a69c",
   "metadata": {},
   "outputs": [],
   "source": [
    "## lấy các cột cần thiết từ df để tạo fact_orders_header\n",
    "fact_orders_header = df[['InvoiceNo', 'Quantity', 'InvoiceDate','StockCode', 'UnitPrice', 'CustomerID', 'Country']]\n"
   ]
  },
  {
   "cell_type": "code",
   "execution_count": 227,
   "id": "480b7f17",
   "metadata": {},
   "outputs": [
    {
     "name": "stderr",
     "output_type": "stream",
     "text": [
      "C:\\Users\\ADMIN\\AppData\\Local\\Temp\\ipykernel_20192\\1497768659.py:2: SettingWithCopyWarning: \n",
      "A value is trying to be set on a copy of a slice from a DataFrame.\n",
      "Try using .loc[row_indexer,col_indexer] = value instead\n",
      "\n",
      "See the caveats in the documentation: https://pandas.pydata.org/pandas-docs/stable/user_guide/indexing.html#returning-a-view-versus-a-copy\n",
      "  fact_orders_header['StockCode'] = fact_orders_header['StockCode'].astype(str).str.strip().str.upper()\n"
     ]
    }
   ],
   "source": [
    "## chuẩn hóa dữ liệu\n",
    "fact_orders_header['StockCode'] = fact_orders_header['StockCode'].astype(str).str.strip().str.upper()"
   ]
  },
  {
   "cell_type": "code",
   "execution_count": 228,
   "id": "e520a753",
   "metadata": {},
   "outputs": [],
   "source": [
    "## tạo các cột tính toán Revenue, COGs, và Gross Profit\n",
    "fact_orders_header['Revenue'] = fact_orders_header['Quantity'] * fact_orders_header['UnitPrice']"
   ]
  },
  {
   "cell_type": "code",
   "execution_count": 229,
   "id": "065ef9f2",
   "metadata": {},
   "outputs": [],
   "source": [
    "## duplicate InvoiceDate to InvoiceDate_converted and normalize it\n",
    "fact_orders_header['InvoiceDate_converted'] = pd.to_datetime(fact_orders_header['InvoiceDate']).dt.normalize()"
   ]
  },
  {
   "cell_type": "code",
   "execution_count": 230,
   "id": "134681a8",
   "metadata": {},
   "outputs": [],
   "source": [
    "\n",
    "result = fact_orders_header.groupby(['InvoiceNo']).agg({'Revenue': 'sum', 'Quantity': 'sum','InvoiceDate':'first','InvoiceDate_converted':'first', 'CustomerID': 'first', 'Country': 'first'}).reset_index()"
   ]
  },
  {
   "cell_type": "code",
   "execution_count": 231,
   "id": "53d56578",
   "metadata": {},
   "outputs": [],
   "source": [
    "result['InvoiceNo'] = result['InvoiceNo'].astype('string').str.strip().str.upper()"
   ]
  },
  {
   "cell_type": "code",
   "execution_count": 232,
   "id": "c92978f7",
   "metadata": {},
   "outputs": [
    {
     "data": {
      "text/html": [
       "<div>\n",
       "<style scoped>\n",
       "    .dataframe tbody tr th:only-of-type {\n",
       "        vertical-align: middle;\n",
       "    }\n",
       "\n",
       "    .dataframe tbody tr th {\n",
       "        vertical-align: top;\n",
       "    }\n",
       "\n",
       "    .dataframe thead th {\n",
       "        text-align: right;\n",
       "    }\n",
       "</style>\n",
       "<table border=\"1\" class=\"dataframe\">\n",
       "  <thead>\n",
       "    <tr style=\"text-align: right;\">\n",
       "      <th></th>\n",
       "      <th>InvoiceNo</th>\n",
       "      <th>Revenue</th>\n",
       "      <th>Quantity</th>\n",
       "      <th>InvoiceDate</th>\n",
       "      <th>InvoiceDate_converted</th>\n",
       "      <th>CustomerID</th>\n",
       "      <th>Country</th>\n",
       "    </tr>\n",
       "  </thead>\n",
       "  <tbody>\n",
       "    <tr>\n",
       "      <th>0</th>\n",
       "      <td>536365</td>\n",
       "      <td>139.12</td>\n",
       "      <td>40</td>\n",
       "      <td>2010-12-01 08:26:00</td>\n",
       "      <td>2010-12-01</td>\n",
       "      <td>17850.0</td>\n",
       "      <td>United Kingdom</td>\n",
       "    </tr>\n",
       "    <tr>\n",
       "      <th>1</th>\n",
       "      <td>536366</td>\n",
       "      <td>22.20</td>\n",
       "      <td>12</td>\n",
       "      <td>2010-12-01 08:28:00</td>\n",
       "      <td>2010-12-01</td>\n",
       "      <td>17850.0</td>\n",
       "      <td>United Kingdom</td>\n",
       "    </tr>\n",
       "    <tr>\n",
       "      <th>2</th>\n",
       "      <td>536367</td>\n",
       "      <td>278.73</td>\n",
       "      <td>83</td>\n",
       "      <td>2010-12-01 08:34:00</td>\n",
       "      <td>2010-12-01</td>\n",
       "      <td>13047.0</td>\n",
       "      <td>United Kingdom</td>\n",
       "    </tr>\n",
       "    <tr>\n",
       "      <th>3</th>\n",
       "      <td>536368</td>\n",
       "      <td>70.05</td>\n",
       "      <td>15</td>\n",
       "      <td>2010-12-01 08:34:00</td>\n",
       "      <td>2010-12-01</td>\n",
       "      <td>13047.0</td>\n",
       "      <td>United Kingdom</td>\n",
       "    </tr>\n",
       "    <tr>\n",
       "      <th>4</th>\n",
       "      <td>536369</td>\n",
       "      <td>17.85</td>\n",
       "      <td>3</td>\n",
       "      <td>2010-12-01 08:35:00</td>\n",
       "      <td>2010-12-01</td>\n",
       "      <td>13047.0</td>\n",
       "      <td>United Kingdom</td>\n",
       "    </tr>\n",
       "    <tr>\n",
       "      <th>...</th>\n",
       "      <td>...</td>\n",
       "      <td>...</td>\n",
       "      <td>...</td>\n",
       "      <td>...</td>\n",
       "      <td>...</td>\n",
       "      <td>...</td>\n",
       "      <td>...</td>\n",
       "    </tr>\n",
       "    <tr>\n",
       "      <th>25895</th>\n",
       "      <td>C581484</td>\n",
       "      <td>-168469.60</td>\n",
       "      <td>-80995</td>\n",
       "      <td>2011-12-09 09:27:00</td>\n",
       "      <td>2011-12-09</td>\n",
       "      <td>16446.0</td>\n",
       "      <td>United Kingdom</td>\n",
       "    </tr>\n",
       "    <tr>\n",
       "      <th>25896</th>\n",
       "      <td>C581490</td>\n",
       "      <td>-32.53</td>\n",
       "      <td>-23</td>\n",
       "      <td>2011-12-09 09:57:00</td>\n",
       "      <td>2011-12-09</td>\n",
       "      <td>14397.0</td>\n",
       "      <td>United Kingdom</td>\n",
       "    </tr>\n",
       "    <tr>\n",
       "      <th>25897</th>\n",
       "      <td>C581499</td>\n",
       "      <td>-224.69</td>\n",
       "      <td>-1</td>\n",
       "      <td>2011-12-09 10:28:00</td>\n",
       "      <td>2011-12-09</td>\n",
       "      <td>15498.0</td>\n",
       "      <td>United Kingdom</td>\n",
       "    </tr>\n",
       "    <tr>\n",
       "      <th>25898</th>\n",
       "      <td>C581568</td>\n",
       "      <td>-54.75</td>\n",
       "      <td>-5</td>\n",
       "      <td>2011-12-09 11:57:00</td>\n",
       "      <td>2011-12-09</td>\n",
       "      <td>15311.0</td>\n",
       "      <td>United Kingdom</td>\n",
       "    </tr>\n",
       "    <tr>\n",
       "      <th>25899</th>\n",
       "      <td>C581569</td>\n",
       "      <td>-7.50</td>\n",
       "      <td>-6</td>\n",
       "      <td>2011-12-09 11:58:00</td>\n",
       "      <td>2011-12-09</td>\n",
       "      <td>17315.0</td>\n",
       "      <td>United Kingdom</td>\n",
       "    </tr>\n",
       "  </tbody>\n",
       "</table>\n",
       "<p>25900 rows × 7 columns</p>\n",
       "</div>"
      ],
      "text/plain": [
       "      InvoiceNo    Revenue  Quantity         InvoiceDate  \\\n",
       "0        536365     139.12        40 2010-12-01 08:26:00   \n",
       "1        536366      22.20        12 2010-12-01 08:28:00   \n",
       "2        536367     278.73        83 2010-12-01 08:34:00   \n",
       "3        536368      70.05        15 2010-12-01 08:34:00   \n",
       "4        536369      17.85         3 2010-12-01 08:35:00   \n",
       "...         ...        ...       ...                 ...   \n",
       "25895   C581484 -168469.60    -80995 2011-12-09 09:27:00   \n",
       "25896   C581490     -32.53       -23 2011-12-09 09:57:00   \n",
       "25897   C581499    -224.69        -1 2011-12-09 10:28:00   \n",
       "25898   C581568     -54.75        -5 2011-12-09 11:57:00   \n",
       "25899   C581569      -7.50        -6 2011-12-09 11:58:00   \n",
       "\n",
       "      InvoiceDate_converted  CustomerID         Country  \n",
       "0                2010-12-01     17850.0  United Kingdom  \n",
       "1                2010-12-01     17850.0  United Kingdom  \n",
       "2                2010-12-01     13047.0  United Kingdom  \n",
       "3                2010-12-01     13047.0  United Kingdom  \n",
       "4                2010-12-01     13047.0  United Kingdom  \n",
       "...                     ...         ...             ...  \n",
       "25895            2011-12-09     16446.0  United Kingdom  \n",
       "25896            2011-12-09     14397.0  United Kingdom  \n",
       "25897            2011-12-09     15498.0  United Kingdom  \n",
       "25898            2011-12-09     15311.0  United Kingdom  \n",
       "25899            2011-12-09     17315.0  United Kingdom  \n",
       "\n",
       "[25900 rows x 7 columns]"
      ]
     },
     "execution_count": 232,
     "metadata": {},
     "output_type": "execute_result"
    }
   ],
   "source": [
    "result"
   ]
  },
  {
   "cell_type": "code",
   "execution_count": 233,
   "id": "5d3ab5de",
   "metadata": {},
   "outputs": [],
   "source": [
    "result.to_csv('fact_orders_header.csv', index=False)"
   ]
  },
  {
   "cell_type": "markdown",
   "id": "d8cda21a",
   "metadata": {},
   "source": [
    "## Fact table - OrderDetail"
   ]
  },
  {
   "cell_type": "code",
   "execution_count": 234,
   "id": "4463833a",
   "metadata": {},
   "outputs": [],
   "source": [
    "## Lấy các cột cần thiết từ df để tạo Fact_Order_Detail\n",
    "Fact_Order_Detail = df[['InvoiceNo', 'StockCode', 'Quantity', 'UnitPrice']]"
   ]
  },
  {
   "cell_type": "code",
   "execution_count": 235,
   "id": "dca0ba4b",
   "metadata": {},
   "outputs": [
    {
     "name": "stderr",
     "output_type": "stream",
     "text": [
      "C:\\Users\\ADMIN\\AppData\\Local\\Temp\\ipykernel_20192\\1392264370.py:2: SettingWithCopyWarning: \n",
      "A value is trying to be set on a copy of a slice from a DataFrame.\n",
      "Try using .loc[row_indexer,col_indexer] = value instead\n",
      "\n",
      "See the caveats in the documentation: https://pandas.pydata.org/pandas-docs/stable/user_guide/indexing.html#returning-a-view-versus-a-copy\n",
      "  Fact_Order_Detail['StockCode'] = Fact_Order_Detail['StockCode'].astype(str).str.strip().str.upper()\n"
     ]
    }
   ],
   "source": [
    "## chuẩn hóa dữ liệu\n",
    "Fact_Order_Detail['StockCode'] = Fact_Order_Detail['StockCode'].astype(str).str.strip().str.upper()"
   ]
  },
  {
   "cell_type": "code",
   "execution_count": 236,
   "id": "1a3afba5",
   "metadata": {},
   "outputs": [
    {
     "name": "stderr",
     "output_type": "stream",
     "text": [
      "C:\\Users\\ADMIN\\AppData\\Local\\Temp\\ipykernel_20192\\1877250969.py:1: SettingWithCopyWarning: \n",
      "A value is trying to be set on a copy of a slice from a DataFrame.\n",
      "Try using .loc[row_indexer,col_indexer] = value instead\n",
      "\n",
      "See the caveats in the documentation: https://pandas.pydata.org/pandas-docs/stable/user_guide/indexing.html#returning-a-view-versus-a-copy\n",
      "  Fact_Order_Detail['Line Total'] = (Fact_Order_Detail['Quantity'] * Fact_Order_Detail['UnitPrice']).round(2)\n"
     ]
    }
   ],
   "source": [
    "Fact_Order_Detail['Line Total'] = (Fact_Order_Detail['Quantity'] * Fact_Order_Detail['UnitPrice']).round(2)"
   ]
  },
  {
   "cell_type": "code",
   "execution_count": 237,
   "id": "bb856617",
   "metadata": {},
   "outputs": [
    {
     "data": {
      "text/html": [
       "<div>\n",
       "<style scoped>\n",
       "    .dataframe tbody tr th:only-of-type {\n",
       "        vertical-align: middle;\n",
       "    }\n",
       "\n",
       "    .dataframe tbody tr th {\n",
       "        vertical-align: top;\n",
       "    }\n",
       "\n",
       "    .dataframe thead th {\n",
       "        text-align: right;\n",
       "    }\n",
       "</style>\n",
       "<table border=\"1\" class=\"dataframe\">\n",
       "  <thead>\n",
       "    <tr style=\"text-align: right;\">\n",
       "      <th></th>\n",
       "      <th>InvoiceNo</th>\n",
       "      <th>StockCode</th>\n",
       "      <th>Quantity</th>\n",
       "      <th>UnitPrice</th>\n",
       "      <th>Line Total</th>\n",
       "    </tr>\n",
       "  </thead>\n",
       "  <tbody>\n",
       "  </tbody>\n",
       "</table>\n",
       "</div>"
      ],
      "text/plain": [
       "Empty DataFrame\n",
       "Columns: [InvoiceNo, StockCode, Quantity, UnitPrice, Line Total]\n",
       "Index: []"
      ]
     },
     "execution_count": 237,
     "metadata": {},
     "output_type": "execute_result"
    }
   ],
   "source": [
    "Fact_Order_Detail[Fact_Order_Detail['StockCode'].isna()]"
   ]
  },
  {
   "cell_type": "code",
   "execution_count": 238,
   "id": "c04de5ec",
   "metadata": {},
   "outputs": [
    {
     "name": "stdout",
     "output_type": "stream",
     "text": [
      "<class 'pandas.core.frame.DataFrame'>\n",
      "RangeIndex: 541909 entries, 0 to 541908\n",
      "Data columns (total 6 columns):\n",
      " #   Column           Non-Null Count   Dtype  \n",
      "---  ------           --------------   -----  \n",
      " 0   InvoiceNo        541909 non-null  object \n",
      " 1   StockCode        541909 non-null  object \n",
      " 2   Quantity         541909 non-null  int64  \n",
      " 3   UnitPrice        541909 non-null  float64\n",
      " 4   Line Total       541909 non-null  float64\n",
      " 5   Order Detail ID  541909 non-null  int32  \n",
      "dtypes: float64(2), int32(1), int64(1), object(2)\n",
      "memory usage: 22.7+ MB\n"
     ]
    },
    {
     "name": "stderr",
     "output_type": "stream",
     "text": [
      "C:\\Users\\ADMIN\\AppData\\Local\\Temp\\ipykernel_20192\\1188327817.py:1: SettingWithCopyWarning: \n",
      "A value is trying to be set on a copy of a slice from a DataFrame.\n",
      "Try using .loc[row_indexer,col_indexer] = value instead\n",
      "\n",
      "See the caveats in the documentation: https://pandas.pydata.org/pandas-docs/stable/user_guide/indexing.html#returning-a-view-versus-a-copy\n",
      "  Fact_Order_Detail['Order Detail ID'] = np.arange(1, len(Fact_Order_Detail) + 1)\n"
     ]
    }
   ],
   "source": [
    "Fact_Order_Detail['Order Detail ID'] = np.arange(1, len(Fact_Order_Detail) + 1)\n",
    "Fact_Order_Detail.info()"
   ]
  },
  {
   "cell_type": "code",
   "execution_count": 239,
   "id": "093de52c",
   "metadata": {},
   "outputs": [],
   "source": [
    "Fact_Order_Detail.to_csv('fact_order_detail.csv', index=False)"
   ]
  },
  {
   "cell_type": "markdown",
   "id": "581960e3",
   "metadata": {},
   "source": [
    "# Khai phá dữ liệu"
   ]
  },
  {
   "cell_type": "code",
   "execution_count": 280,
   "id": "ecc51ba2",
   "metadata": {},
   "outputs": [],
   "source": [
    "from sklearn.cluster import KMeans\n",
    "from sklearn.preprocessing import StandardScaler\n",
    "import matplotlib.pyplot as plt"
   ]
  },
  {
   "cell_type": "code",
   "execution_count": 304,
   "id": "3a35264f",
   "metadata": {},
   "outputs": [
    {
     "data": {
      "text/html": [
       "<div>\n",
       "<style scoped>\n",
       "    .dataframe tbody tr th:only-of-type {\n",
       "        vertical-align: middle;\n",
       "    }\n",
       "\n",
       "    .dataframe tbody tr th {\n",
       "        vertical-align: top;\n",
       "    }\n",
       "\n",
       "    .dataframe thead th {\n",
       "        text-align: right;\n",
       "    }\n",
       "</style>\n",
       "<table border=\"1\" class=\"dataframe\">\n",
       "  <thead>\n",
       "    <tr style=\"text-align: right;\">\n",
       "      <th></th>\n",
       "      <th>InvoiceNo</th>\n",
       "      <th>Revenue</th>\n",
       "      <th>Quantity</th>\n",
       "      <th>InvoiceDate</th>\n",
       "      <th>InvoiceDate_converted</th>\n",
       "      <th>CustomerID</th>\n",
       "      <th>Country</th>\n",
       "    </tr>\n",
       "  </thead>\n",
       "  <tbody>\n",
       "    <tr>\n",
       "      <th>0</th>\n",
       "      <td>536365</td>\n",
       "      <td>139.12</td>\n",
       "      <td>40</td>\n",
       "      <td>2010-12-01 08:26:00</td>\n",
       "      <td>2010-12-01</td>\n",
       "      <td>17850.0</td>\n",
       "      <td>United Kingdom</td>\n",
       "    </tr>\n",
       "    <tr>\n",
       "      <th>1</th>\n",
       "      <td>536366</td>\n",
       "      <td>22.20</td>\n",
       "      <td>12</td>\n",
       "      <td>2010-12-01 08:28:00</td>\n",
       "      <td>2010-12-01</td>\n",
       "      <td>17850.0</td>\n",
       "      <td>United Kingdom</td>\n",
       "    </tr>\n",
       "    <tr>\n",
       "      <th>2</th>\n",
       "      <td>536367</td>\n",
       "      <td>278.73</td>\n",
       "      <td>83</td>\n",
       "      <td>2010-12-01 08:34:00</td>\n",
       "      <td>2010-12-01</td>\n",
       "      <td>13047.0</td>\n",
       "      <td>United Kingdom</td>\n",
       "    </tr>\n",
       "    <tr>\n",
       "      <th>3</th>\n",
       "      <td>536368</td>\n",
       "      <td>70.05</td>\n",
       "      <td>15</td>\n",
       "      <td>2010-12-01 08:34:00</td>\n",
       "      <td>2010-12-01</td>\n",
       "      <td>13047.0</td>\n",
       "      <td>United Kingdom</td>\n",
       "    </tr>\n",
       "    <tr>\n",
       "      <th>4</th>\n",
       "      <td>536369</td>\n",
       "      <td>17.85</td>\n",
       "      <td>3</td>\n",
       "      <td>2010-12-01 08:35:00</td>\n",
       "      <td>2010-12-01</td>\n",
       "      <td>13047.0</td>\n",
       "      <td>United Kingdom</td>\n",
       "    </tr>\n",
       "    <tr>\n",
       "      <th>5</th>\n",
       "      <td>536370</td>\n",
       "      <td>855.86</td>\n",
       "      <td>449</td>\n",
       "      <td>2010-12-01 08:45:00</td>\n",
       "      <td>2010-12-01</td>\n",
       "      <td>12583.0</td>\n",
       "      <td>France</td>\n",
       "    </tr>\n",
       "    <tr>\n",
       "      <th>6</th>\n",
       "      <td>536371</td>\n",
       "      <td>204.00</td>\n",
       "      <td>80</td>\n",
       "      <td>2010-12-01 09:00:00</td>\n",
       "      <td>2010-12-01</td>\n",
       "      <td>13748.0</td>\n",
       "      <td>United Kingdom</td>\n",
       "    </tr>\n",
       "    <tr>\n",
       "      <th>7</th>\n",
       "      <td>536372</td>\n",
       "      <td>22.20</td>\n",
       "      <td>12</td>\n",
       "      <td>2010-12-01 09:01:00</td>\n",
       "      <td>2010-12-01</td>\n",
       "      <td>17850.0</td>\n",
       "      <td>United Kingdom</td>\n",
       "    </tr>\n",
       "    <tr>\n",
       "      <th>8</th>\n",
       "      <td>536373</td>\n",
       "      <td>259.86</td>\n",
       "      <td>88</td>\n",
       "      <td>2010-12-01 09:02:00</td>\n",
       "      <td>2010-12-01</td>\n",
       "      <td>17850.0</td>\n",
       "      <td>United Kingdom</td>\n",
       "    </tr>\n",
       "    <tr>\n",
       "      <th>9</th>\n",
       "      <td>536374</td>\n",
       "      <td>350.40</td>\n",
       "      <td>32</td>\n",
       "      <td>2010-12-01 09:09:00</td>\n",
       "      <td>2010-12-01</td>\n",
       "      <td>15100.0</td>\n",
       "      <td>United Kingdom</td>\n",
       "    </tr>\n",
       "  </tbody>\n",
       "</table>\n",
       "</div>"
      ],
      "text/plain": [
       "  InvoiceNo  Revenue  Quantity         InvoiceDate InvoiceDate_converted  \\\n",
       "0    536365   139.12        40 2010-12-01 08:26:00            2010-12-01   \n",
       "1    536366    22.20        12 2010-12-01 08:28:00            2010-12-01   \n",
       "2    536367   278.73        83 2010-12-01 08:34:00            2010-12-01   \n",
       "3    536368    70.05        15 2010-12-01 08:34:00            2010-12-01   \n",
       "4    536369    17.85         3 2010-12-01 08:35:00            2010-12-01   \n",
       "5    536370   855.86       449 2010-12-01 08:45:00            2010-12-01   \n",
       "6    536371   204.00        80 2010-12-01 09:00:00            2010-12-01   \n",
       "7    536372    22.20        12 2010-12-01 09:01:00            2010-12-01   \n",
       "8    536373   259.86        88 2010-12-01 09:02:00            2010-12-01   \n",
       "9    536374   350.40        32 2010-12-01 09:09:00            2010-12-01   \n",
       "\n",
       "   CustomerID         Country  \n",
       "0     17850.0  United Kingdom  \n",
       "1     17850.0  United Kingdom  \n",
       "2     13047.0  United Kingdom  \n",
       "3     13047.0  United Kingdom  \n",
       "4     13047.0  United Kingdom  \n",
       "5     12583.0          France  \n",
       "6     13748.0  United Kingdom  \n",
       "7     17850.0  United Kingdom  \n",
       "8     17850.0  United Kingdom  \n",
       "9     15100.0  United Kingdom  "
      ]
     },
     "execution_count": 304,
     "metadata": {},
     "output_type": "execute_result"
    }
   ],
   "source": [
    "result.head(10)"
   ]
  },
  {
   "cell_type": "code",
   "execution_count": 305,
   "id": "70ef215e",
   "metadata": {},
   "outputs": [],
   "source": [
    "## df chứa thông tin RFM\n",
    "\n",
    "df2 = result[['InvoiceNo', 'CustomerID', 'Revenue','Quantity', 'InvoiceDate_converted']].copy()"
   ]
  },
  {
   "cell_type": "code",
   "execution_count": 306,
   "id": "ec15c4a3",
   "metadata": {},
   "outputs": [],
   "source": [
    "## Ngày tham chiếu để tính Recency\n",
    "ref_date = pd.to_datetime(result['InvoiceDate_converted'].max())"
   ]
  },
  {
   "cell_type": "code",
   "execution_count": 307,
   "id": "b8309c54",
   "metadata": {},
   "outputs": [],
   "source": [
    "## Tính toán các chỉ số RFM\n",
    "\n",
    "df2_Groupby = df2.groupby('CustomerID').agg({\n",
    "    'InvoiceNo': 'nunique',  # Frequency\n",
    "    'Revenue': 'sum',  # Monetary\n",
    "    'InvoiceDate_converted': lambda x: (ref_date - x.max()).days, # Recency\n",
    "     'Quantity': 'sum' }).reset_index()\n"
   ]
  },
  {
   "cell_type": "code",
   "execution_count": 308,
   "id": "53ff103a",
   "metadata": {},
   "outputs": [],
   "source": [
    "## đổi tên columns\n",
    "\n",
    "df2_RFM = df2_Groupby.rename(columns={\n",
    "    'InvoiceNo': 'Frequency',\n",
    "    'Revenue': 'Monetary',\n",
    "    'InvoiceDate_converted': 'Recency',\n",
    "    'Quantity': 'Quantity',\n",
    "    'CustomerID': 'CustomerID'})"
   ]
  },
  {
   "cell_type": "code",
   "execution_count": 310,
   "id": "8906f37e",
   "metadata": {},
   "outputs": [
    {
     "data": {
      "text/html": [
       "<div>\n",
       "<style scoped>\n",
       "    .dataframe tbody tr th:only-of-type {\n",
       "        vertical-align: middle;\n",
       "    }\n",
       "\n",
       "    .dataframe tbody tr th {\n",
       "        vertical-align: top;\n",
       "    }\n",
       "\n",
       "    .dataframe thead th {\n",
       "        text-align: right;\n",
       "    }\n",
       "</style>\n",
       "<table border=\"1\" class=\"dataframe\">\n",
       "  <thead>\n",
       "    <tr style=\"text-align: right;\">\n",
       "      <th></th>\n",
       "      <th>CustomerID</th>\n",
       "      <th>Frequency</th>\n",
       "      <th>Monetary</th>\n",
       "      <th>Recency</th>\n",
       "      <th>Quantity</th>\n",
       "    </tr>\n",
       "  </thead>\n",
       "  <tbody>\n",
       "    <tr>\n",
       "      <th>0</th>\n",
       "      <td>12346.0</td>\n",
       "      <td>2</td>\n",
       "      <td>0.00</td>\n",
       "      <td>325</td>\n",
       "      <td>0</td>\n",
       "    </tr>\n",
       "    <tr>\n",
       "      <th>1</th>\n",
       "      <td>12347.0</td>\n",
       "      <td>7</td>\n",
       "      <td>4310.00</td>\n",
       "      <td>2</td>\n",
       "      <td>2458</td>\n",
       "    </tr>\n",
       "    <tr>\n",
       "      <th>2</th>\n",
       "      <td>12348.0</td>\n",
       "      <td>4</td>\n",
       "      <td>1797.24</td>\n",
       "      <td>75</td>\n",
       "      <td>2341</td>\n",
       "    </tr>\n",
       "    <tr>\n",
       "      <th>3</th>\n",
       "      <td>12349.0</td>\n",
       "      <td>1</td>\n",
       "      <td>1757.55</td>\n",
       "      <td>18</td>\n",
       "      <td>631</td>\n",
       "    </tr>\n",
       "    <tr>\n",
       "      <th>4</th>\n",
       "      <td>12350.0</td>\n",
       "      <td>1</td>\n",
       "      <td>334.40</td>\n",
       "      <td>310</td>\n",
       "      <td>197</td>\n",
       "    </tr>\n",
       "  </tbody>\n",
       "</table>\n",
       "</div>"
      ],
      "text/plain": [
       "   CustomerID  Frequency  Monetary  Recency  Quantity\n",
       "0     12346.0          2      0.00      325         0\n",
       "1     12347.0          7   4310.00        2      2458\n",
       "2     12348.0          4   1797.24       75      2341\n",
       "3     12349.0          1   1757.55       18       631\n",
       "4     12350.0          1    334.40      310       197"
      ]
     },
     "execution_count": 310,
     "metadata": {},
     "output_type": "execute_result"
    }
   ],
   "source": [
    "df2_RFM.head()"
   ]
  },
  {
   "cell_type": "code",
   "execution_count": 311,
   "id": "a8c9ff4a",
   "metadata": {},
   "outputs": [],
   "source": [
    "from sklearn.preprocessing import StandardScaler\n",
    "from sklearn.cluster import KMeans\n",
    "import matplotlib.pyplot as plt"
   ]
  },
  {
   "cell_type": "code",
   "execution_count": 312,
   "id": "826cf4c0",
   "metadata": {},
   "outputs": [],
   "source": [
    "X = df2_RFM[['Recency', 'Frequency', 'Monetary']]\n",
    "scaler = StandardScaler()\n",
    "X_scaled = scaler.fit_transform(X)\n"
   ]
  },
  {
   "cell_type": "code",
   "execution_count": 313,
   "id": "5137f46c",
   "metadata": {},
   "outputs": [
    {
     "name": "stderr",
     "output_type": "stream",
     "text": [
      "c:\\Users\\ADMIN\\anaconda3\\Lib\\site-packages\\sklearn\\cluster\\_kmeans.py:1419: UserWarning: KMeans is known to have a memory leak on Windows with MKL, when there are less chunks than available threads. You can avoid it by setting the environment variable OMP_NUM_THREADS=18.\n",
      "  warnings.warn(\n",
      "c:\\Users\\ADMIN\\anaconda3\\Lib\\site-packages\\sklearn\\cluster\\_kmeans.py:1419: UserWarning: KMeans is known to have a memory leak on Windows with MKL, when there are less chunks than available threads. You can avoid it by setting the environment variable OMP_NUM_THREADS=18.\n",
      "  warnings.warn(\n",
      "c:\\Users\\ADMIN\\anaconda3\\Lib\\site-packages\\sklearn\\cluster\\_kmeans.py:1419: UserWarning: KMeans is known to have a memory leak on Windows with MKL, when there are less chunks than available threads. You can avoid it by setting the environment variable OMP_NUM_THREADS=18.\n",
      "  warnings.warn(\n",
      "c:\\Users\\ADMIN\\anaconda3\\Lib\\site-packages\\sklearn\\cluster\\_kmeans.py:1419: UserWarning: KMeans is known to have a memory leak on Windows with MKL, when there are less chunks than available threads. You can avoid it by setting the environment variable OMP_NUM_THREADS=18.\n",
      "  warnings.warn(\n",
      "c:\\Users\\ADMIN\\anaconda3\\Lib\\site-packages\\sklearn\\cluster\\_kmeans.py:1419: UserWarning: KMeans is known to have a memory leak on Windows with MKL, when there are less chunks than available threads. You can avoid it by setting the environment variable OMP_NUM_THREADS=18.\n",
      "  warnings.warn(\n",
      "c:\\Users\\ADMIN\\anaconda3\\Lib\\site-packages\\sklearn\\cluster\\_kmeans.py:1419: UserWarning: KMeans is known to have a memory leak on Windows with MKL, when there are less chunks than available threads. You can avoid it by setting the environment variable OMP_NUM_THREADS=18.\n",
      "  warnings.warn(\n",
      "c:\\Users\\ADMIN\\anaconda3\\Lib\\site-packages\\sklearn\\cluster\\_kmeans.py:1419: UserWarning: KMeans is known to have a memory leak on Windows with MKL, when there are less chunks than available threads. You can avoid it by setting the environment variable OMP_NUM_THREADS=18.\n",
      "  warnings.warn(\n",
      "c:\\Users\\ADMIN\\anaconda3\\Lib\\site-packages\\sklearn\\cluster\\_kmeans.py:1419: UserWarning: KMeans is known to have a memory leak on Windows with MKL, when there are less chunks than available threads. You can avoid it by setting the environment variable OMP_NUM_THREADS=18.\n",
      "  warnings.warn(\n",
      "c:\\Users\\ADMIN\\anaconda3\\Lib\\site-packages\\sklearn\\cluster\\_kmeans.py:1419: UserWarning: KMeans is known to have a memory leak on Windows with MKL, when there are less chunks than available threads. You can avoid it by setting the environment variable OMP_NUM_THREADS=18.\n",
      "  warnings.warn(\n",
      "c:\\Users\\ADMIN\\anaconda3\\Lib\\site-packages\\sklearn\\cluster\\_kmeans.py:1419: UserWarning: KMeans is known to have a memory leak on Windows with MKL, when there are less chunks than available threads. You can avoid it by setting the environment variable OMP_NUM_THREADS=18.\n",
      "  warnings.warn(\n"
     ]
    },
    {
     "data": {
      "image/png": "[encoded data removed]",
      "text/plain": [
       "<Figure size 640x480 with 1 Axes>"
      ]
     },
     "metadata": {},
     "output_type": "display_data"
    }
   ],
   "source": [
    "## xác định số cụm tối ưu bằng phương pháp Elbow\n",
    "sse = []  # Sum of Squared Errors\n",
    "K = range(1, 11)\n",
    "\n",
    "for k in K:\n",
    "    kmeans = KMeans(n_clusters=k, random_state=42)\n",
    "    kmeans.fit(X_scaled)\n",
    "    sse.append(kmeans.inertia_)\n",
    "\n",
    "plt.plot(K, sse, marker='o')\n",
    "plt.xlabel('Số cụm (k)')\n",
    "plt.ylabel('SSE (inertia)')\n",
    "plt.title('Elbow Method để xác định số cụm tối ưu')\n",
    "plt.show()"
   ]
  },
  {
   "cell_type": "code",
   "execution_count": 314,
   "id": "98ad78a7",
   "metadata": {},
   "outputs": [
    {
     "name": "stderr",
     "output_type": "stream",
     "text": [
      "c:\\Users\\ADMIN\\anaconda3\\Lib\\site-packages\\sklearn\\cluster\\_kmeans.py:1419: UserWarning: KMeans is known to have a memory leak on Windows with MKL, when there are less chunks than available threads. You can avoid it by setting the environment variable OMP_NUM_THREADS=18.\n",
      "  warnings.warn(\n"
     ]
    }
   ],
   "source": [
    "## fit mô hình KMeans với số cụm đã chọn\n",
    "# Giả sử số cụm tối ưu là 4 (dựa trên biểu đồ Elbow)\n",
    "\n",
    "kmeans = KMeans(n_clusters=4, random_state=42)\n",
    "df2_RFM['Cluster'] = kmeans.fit_predict(X_scaled)\n"
   ]
  },
  {
   "cell_type": "code",
   "execution_count": 315,
   "id": "b44de35d",
   "metadata": {},
   "outputs": [
    {
     "data": {
      "image/png": "[encoded data removed]",
      "text/plain": [
       "<Figure size 1000x600 with 1 Axes>"
      ]
     },
     "metadata": {},
     "output_type": "display_data"
    }
   ],
   "source": [
    "plt.figure(figsize=(10, 6))\n",
    "plt.bar(df2_RFM['Cluster'].value_counts().index, df2_RFM['Cluster'].value_counts().values)\n",
    "plt.xlabel('Cluster') \n",
    "plt.ylabel('Số lượng khách hàng')\n",
    "plt.title('Số lượng khách hàng theo từng cụm')\n",
    "plt.xticks(rotation=0)\n",
    "plt.show() "
   ]
  },
  {
   "cell_type": "code",
   "execution_count": 316,
   "id": "111f02df",
   "metadata": {},
   "outputs": [],
   "source": [
    "## gán tên cụm cho từng khách hàng\n",
    "cluster_labels = {\n",
    "    0: 'Loyal Customers',\n",
    "    1: 'Inactive / Low Value',\n",
    "    2: 'Top Tier Customers',  ## monetay cao nhất, fre 50-200, recency rất gần\n",
    "    3: 'At Risk' ## monetary ~ cụm 0, fre thấp hơn cụm 0, recency > cụm 0, biên độ rộng\n",
    "}\n",
    "\n",
    "df2_RFM['Segment'] = df2_RFM['Cluster'].map(cluster_labels)\n"
   ]
  },
  {
   "cell_type": "code",
   "execution_count": 317,
   "id": "dc985124",
   "metadata": {},
   "outputs": [
    {
     "data": {
      "text/html": [
       "<div>\n",
       "<style scoped>\n",
       "    .dataframe tbody tr th:only-of-type {\n",
       "        vertical-align: middle;\n",
       "    }\n",
       "\n",
       "    .dataframe tbody tr th {\n",
       "        vertical-align: top;\n",
       "    }\n",
       "\n",
       "    .dataframe thead th {\n",
       "        text-align: right;\n",
       "    }\n",
       "</style>\n",
       "<table border=\"1\" class=\"dataframe\">\n",
       "  <thead>\n",
       "    <tr style=\"text-align: right;\">\n",
       "      <th></th>\n",
       "      <th>CustomerID</th>\n",
       "      <th>Frequency</th>\n",
       "      <th>Monetary</th>\n",
       "      <th>Recency</th>\n",
       "      <th>Quantity</th>\n",
       "      <th>Cluster</th>\n",
       "      <th>Segment</th>\n",
       "    </tr>\n",
       "  </thead>\n",
       "  <tbody>\n",
       "    <tr>\n",
       "      <th>0</th>\n",
       "      <td>12346.0</td>\n",
       "      <td>2</td>\n",
       "      <td>0.00</td>\n",
       "      <td>325</td>\n",
       "      <td>0</td>\n",
       "      <td>1</td>\n",
       "      <td>Inactive / Low Value</td>\n",
       "    </tr>\n",
       "    <tr>\n",
       "      <th>1</th>\n",
       "      <td>12347.0</td>\n",
       "      <td>7</td>\n",
       "      <td>4310.00</td>\n",
       "      <td>2</td>\n",
       "      <td>2458</td>\n",
       "      <td>3</td>\n",
       "      <td>At Risk</td>\n",
       "    </tr>\n",
       "    <tr>\n",
       "      <th>2</th>\n",
       "      <td>12348.0</td>\n",
       "      <td>4</td>\n",
       "      <td>1797.24</td>\n",
       "      <td>75</td>\n",
       "      <td>2341</td>\n",
       "      <td>3</td>\n",
       "      <td>At Risk</td>\n",
       "    </tr>\n",
       "    <tr>\n",
       "      <th>3</th>\n",
       "      <td>12349.0</td>\n",
       "      <td>1</td>\n",
       "      <td>1757.55</td>\n",
       "      <td>18</td>\n",
       "      <td>631</td>\n",
       "      <td>3</td>\n",
       "      <td>At Risk</td>\n",
       "    </tr>\n",
       "    <tr>\n",
       "      <th>4</th>\n",
       "      <td>12350.0</td>\n",
       "      <td>1</td>\n",
       "      <td>334.40</td>\n",
       "      <td>310</td>\n",
       "      <td>197</td>\n",
       "      <td>1</td>\n",
       "      <td>Inactive / Low Value</td>\n",
       "    </tr>\n",
       "  </tbody>\n",
       "</table>\n",
       "</div>"
      ],
      "text/plain": [
       "   CustomerID  Frequency  Monetary  Recency  Quantity  Cluster  \\\n",
       "0     12346.0          2      0.00      325         0        1   \n",
       "1     12347.0          7   4310.00        2      2458        3   \n",
       "2     12348.0          4   1797.24       75      2341        3   \n",
       "3     12349.0          1   1757.55       18       631        3   \n",
       "4     12350.0          1    334.40      310       197        1   \n",
       "\n",
       "                Segment  \n",
       "0  Inactive / Low Value  \n",
       "1               At Risk  \n",
       "2               At Risk  \n",
       "3               At Risk  \n",
       "4  Inactive / Low Value  "
      ]
     },
     "execution_count": 317,
     "metadata": {},
     "output_type": "execute_result"
    }
   ],
   "source": [
    "df2_RFM.head()"
   ]
  },
  {
   "cell_type": "code",
   "execution_count": 319,
   "id": "8e0c2759",
   "metadata": {},
   "outputs": [
    {
     "data": {
      "text/html": [
       "<div>\n",
       "<style scoped>\n",
       "    .dataframe tbody tr th:only-of-type {\n",
       "        vertical-align: middle;\n",
       "    }\n",
       "\n",
       "    .dataframe tbody tr th {\n",
       "        vertical-align: top;\n",
       "    }\n",
       "\n",
       "    .dataframe thead th {\n",
       "        text-align: right;\n",
       "    }\n",
       "</style>\n",
       "<table border=\"1\" class=\"dataframe\">\n",
       "  <thead>\n",
       "    <tr style=\"text-align: right;\">\n",
       "      <th></th>\n",
       "      <th>CustomerID</th>\n",
       "      <th>Customer_Name</th>\n",
       "      <th>Frequency</th>\n",
       "      <th>Monetary</th>\n",
       "      <th>Recency</th>\n",
       "      <th>Quantity</th>\n",
       "      <th>Cluster</th>\n",
       "      <th>Segment</th>\n",
       "    </tr>\n",
       "  </thead>\n",
       "  <tbody>\n",
       "    <tr>\n",
       "      <th>0</th>\n",
       "      <td>17850.0</td>\n",
       "      <td>Allison Hill</td>\n",
       "      <td>35</td>\n",
       "      <td>5288.63</td>\n",
       "      <td>302</td>\n",
       "      <td>1693</td>\n",
       "      <td>0</td>\n",
       "      <td>Loyal Customers</td>\n",
       "    </tr>\n",
       "    <tr>\n",
       "      <th>1</th>\n",
       "      <td>13047.0</td>\n",
       "      <td>Noah Rhodes</td>\n",
       "      <td>18</td>\n",
       "      <td>3079.10</td>\n",
       "      <td>31</td>\n",
       "      <td>1355</td>\n",
       "      <td>3</td>\n",
       "      <td>At Risk</td>\n",
       "    </tr>\n",
       "    <tr>\n",
       "      <th>2</th>\n",
       "      <td>12583.0</td>\n",
       "      <td>Angie Henderson</td>\n",
       "      <td>18</td>\n",
       "      <td>7187.34</td>\n",
       "      <td>2</td>\n",
       "      <td>5009</td>\n",
       "      <td>0</td>\n",
       "      <td>Loyal Customers</td>\n",
       "    </tr>\n",
       "    <tr>\n",
       "      <th>3</th>\n",
       "      <td>13748.0</td>\n",
       "      <td>Daniel Wagner</td>\n",
       "      <td>5</td>\n",
       "      <td>948.25</td>\n",
       "      <td>95</td>\n",
       "      <td>439</td>\n",
       "      <td>3</td>\n",
       "      <td>At Risk</td>\n",
       "    </tr>\n",
       "    <tr>\n",
       "      <th>4</th>\n",
       "      <td>15100.0</td>\n",
       "      <td>Cristian Santos</td>\n",
       "      <td>6</td>\n",
       "      <td>635.10</td>\n",
       "      <td>330</td>\n",
       "      <td>58</td>\n",
       "      <td>1</td>\n",
       "      <td>Inactive / Low Value</td>\n",
       "    </tr>\n",
       "  </tbody>\n",
       "</table>\n",
       "</div>"
      ],
      "text/plain": [
       "   CustomerID    Customer_Name  Frequency  Monetary  Recency  Quantity  \\\n",
       "0     17850.0     Allison Hill         35   5288.63      302      1693   \n",
       "1     13047.0      Noah Rhodes         18   3079.10       31      1355   \n",
       "2     12583.0  Angie Henderson         18   7187.34        2      5009   \n",
       "3     13748.0    Daniel Wagner          5    948.25       95       439   \n",
       "4     15100.0  Cristian Santos          6    635.10      330        58   \n",
       "\n",
       "   Cluster               Segment  \n",
       "0        0       Loyal Customers  \n",
       "1        3               At Risk  \n",
       "2        0       Loyal Customers  \n",
       "3        3               At Risk  \n",
       "4        1  Inactive / Low Value  "
      ]
     },
     "execution_count": 319,
     "metadata": {},
     "output_type": "execute_result"
    }
   ],
   "source": [
    "## merge với dim_customer để có thông tin khách hàng\n",
    "\n",
    "dim_customer = dim_customer.merge(df2_RFM, on= 'CustomerID', how= 'left')\n",
    "dim_customer.head()"
   ]
  },
  {
   "cell_type": "code",
   "execution_count": 322,
   "id": "b8e5b370",
   "metadata": {},
   "outputs": [],
   "source": [
    "dim_customer.to_csv('dim_customer.csv', index=False)"
   ]
  }
 ],
 "metadata": {
  "kernelspec": {
   "display_name": "base",
   "language": "python",
   "name": "python3"
  },
  "language_info": {
   "codemirror_mode": {
    "name": "ipython",
    "version": 3
   },
   "file_extension": ".py",
   "mimetype": "text/x-python",
   "name": "python",
   "nbconvert_exporter": "python",
   "pygments_lexer": "ipython3",
   "version": "3.12.7"
  }
 },
 "nbformat": 4,
 "nbformat_minor": 5
}
